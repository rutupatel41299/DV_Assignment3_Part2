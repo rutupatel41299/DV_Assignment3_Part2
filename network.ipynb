{
 "cells": [
  {
   "cell_type": "code",
   "execution_count": 1,
   "metadata": {
    "id": "OC3JY0_2wwrp",
    "pycharm": {
     "name": "#%%\n"
    }
   },
   "outputs": [],
   "source": [
    "import pandas as pd\n",
    "import networkx as nx\n",
    "import json\n",
    "pd.set_option('display.max_columns', None)\n",
    "from networkx.readwrite import json_graph"
   ]
  },
  {
   "cell_type": "code",
   "execution_count": 2,
   "metadata": {
    "id": "RtP_V6zMxZeL",
    "pycharm": {
     "name": "#%%\n"
    }
   },
   "outputs": [],
   "source": [
    "df = pd.read_csv(\"https://raw.githubusercontent.com/umassdgithub/Week-8-part-1/main/data/data_scopus.csv\")\n",
    "## drop the rows with no Author Affiliations\n",
    "\n",
    "df= df[~pd.isnull(df['Authors with affiliations'])].copy()"
   ]
  },
  {
   "cell_type": "code",
   "execution_count": 3,
   "metadata": {
    "colab": {
     "base_uri": "https://localhost:8080/",
     "height": 419
    },
    "id": "dgNrTiCBTIgR",
    "outputId": "d306160e-17ca-4fc8-cbe0-caa2ab9e8c22",
    "pycharm": {
     "name": "#%%\n"
    }
   },
   "outputs": [
    {
     "data": {
      "text/plain": "                                               Title  Year  \\\n0  Virtual reality applications for the built env...  2020   \n1  Self-tracking while doing sport: Comfort, moti...  2020   \n\n                  EID                                           Abstract  \\\n0  2-s2.0-85086464158  With its advanced capabilities of immersive an...   \n1  2-s2.0-85082875828  The spread of wearable technologies is paving ...   \n\n        Publisher Conference name Conference date  \\\n0   Elsevier B.V.             NaN             NaN   \n1  Academic Press             NaN             NaN   \n\n                                       Authors  \\\n0  Zhang Y., Liu H., Kang S.-C., Al-Hussein M.   \n1                         Rapp A., Tirabeni L.   \n\n                                      Author(s) ID  \\\n0  57202536919;53984550800;57215426514;6603541102;   \n1                         23398572100;57191836654;   \n\n                           Authors with affiliations  \\\n0  Zhang, Y., Department of Civil and Environment...   \n1  Rapp, A., Computer Science Department, Univers...   \n\n                                      Source title Abbreviated Source Title  \\\n0                       Automation in Construction             Autom Constr   \n1  International Journal of Human Computer Studies    Int J Hum Comput Stud   \n\n   Cited by  \n0       NaN  \n1       NaN  ",
      "text/html": "<div>\n<style scoped>\n    .dataframe tbody tr th:only-of-type {\n        vertical-align: middle;\n    }\n\n    .dataframe tbody tr th {\n        vertical-align: top;\n    }\n\n    .dataframe thead th {\n        text-align: right;\n    }\n</style>\n<table border=\"1\" class=\"dataframe\">\n  <thead>\n    <tr style=\"text-align: right;\">\n      <th></th>\n      <th>Title</th>\n      <th>Year</th>\n      <th>EID</th>\n      <th>Abstract</th>\n      <th>Publisher</th>\n      <th>Conference name</th>\n      <th>Conference date</th>\n      <th>Authors</th>\n      <th>Author(s) ID</th>\n      <th>Authors with affiliations</th>\n      <th>Source title</th>\n      <th>Abbreviated Source Title</th>\n      <th>Cited by</th>\n    </tr>\n  </thead>\n  <tbody>\n    <tr>\n      <th>0</th>\n      <td>Virtual reality applications for the built env...</td>\n      <td>2020</td>\n      <td>2-s2.0-85086464158</td>\n      <td>With its advanced capabilities of immersive an...</td>\n      <td>Elsevier B.V.</td>\n      <td>NaN</td>\n      <td>NaN</td>\n      <td>Zhang Y., Liu H., Kang S.-C., Al-Hussein M.</td>\n      <td>57202536919;53984550800;57215426514;6603541102;</td>\n      <td>Zhang, Y., Department of Civil and Environment...</td>\n      <td>Automation in Construction</td>\n      <td>Autom Constr</td>\n      <td>NaN</td>\n    </tr>\n    <tr>\n      <th>1</th>\n      <td>Self-tracking while doing sport: Comfort, moti...</td>\n      <td>2020</td>\n      <td>2-s2.0-85082875828</td>\n      <td>The spread of wearable technologies is paving ...</td>\n      <td>Academic Press</td>\n      <td>NaN</td>\n      <td>NaN</td>\n      <td>Rapp A., Tirabeni L.</td>\n      <td>23398572100;57191836654;</td>\n      <td>Rapp, A., Computer Science Department, Univers...</td>\n      <td>International Journal of Human Computer Studies</td>\n      <td>Int J Hum Comput Stud</td>\n      <td>NaN</td>\n    </tr>\n  </tbody>\n</table>\n</div>"
     },
     "execution_count": 3,
     "metadata": {},
     "output_type": "execute_result"
    }
   ],
   "source": [
    "df.head(2)"
   ]
  },
  {
   "cell_type": "code",
   "execution_count": 4,
   "metadata": {
    "id": "klz7s_GKtorJ",
    "pycharm": {
     "name": "#%%\n"
    }
   },
   "outputs": [],
   "source": [
    "def get_first_author_affilation(x):\n",
    "  try:\n",
    "    return x.split(\";\")[0].split(\",\")[-1].strip()\n",
    "  except Exception as ex:\n",
    "    print(x)\n",
    "df['First_author_Country']=df['Authors with affiliations'].apply(get_first_author_affilation)"
   ]
  },
  {
   "cell_type": "code",
   "execution_count": 5,
   "metadata": {
    "colab": {
     "base_uri": "https://localhost:8080/"
    },
    "id": "Wd03qWOeuelD",
    "outputId": "71637f5c-8c0b-4c3c-d8d2-dfec25c8ec65",
    "pycharm": {
     "name": "#%%\n"
    }
   },
   "outputs": [
    {
     "data": {
      "text/plain": "0             Canada\n1              Italy\n2             Serbia\n3              Japan\n4              India\n           ...      \n565           Canada\n566    United States\n567      South Korea\n568    United States\n569           Canada\nName: First_author_Country, Length: 561, dtype: object"
     },
     "execution_count": 5,
     "metadata": {},
     "output_type": "execute_result"
    }
   ],
   "source": [
    "df['First_author_Country']"
   ]
  },
  {
   "cell_type": "code",
   "execution_count": 6,
   "metadata": {
    "colab": {
     "base_uri": "https://localhost:8080/",
     "height": 282
    },
    "id": "J74087v2rECw",
    "outputId": "cda4bba7-f63a-4d30-ddd6-6971ab033400",
    "pycharm": {
     "name": "#%%\n"
    }
   },
   "outputs": [
    {
     "data": {
      "text/plain": "<AxesSubplot:>"
     },
     "execution_count": 6,
     "metadata": {},
     "output_type": "execute_result"
    },
    {
     "data": {
      "text/plain": "<Figure size 432x288 with 1 Axes>",
      "image/png": "[encoded data removed]"
     },
     "metadata": {
      "needs_background": "light"
     },
     "output_type": "display_data"
    }
   ],
   "source": [
    "df.Year.hist()"
   ]
  },
  {
   "cell_type": "code",
   "execution_count": 7,
   "metadata": {
    "colab": {
     "base_uri": "https://localhost:8080/",
     "height": 739
    },
    "id": "Sn9CyJO6rT0-",
    "outputId": "a40cd15f-340d-49bb-d3be-e1508509ff28",
    "pycharm": {
     "name": "#%%\n"
    }
   },
   "outputs": [
    {
     "data": {
      "text/plain": "                                                index  Source title\n0   Proc. of the IADIS Int. Conf. Computer Graphic...            55\n1   MCCSIS 2018 - Multi Conference on Computer Sci...            53\n2   Proceedings of the International Conferences o...            49\n3    Proceedings of the IEEE Visualization Conference            48\n4   Proceedings of the IEEE Symposium on Informati...            41\n5   Lecture Notes in Artificial Intelligence (Subs...            35\n6   International Multidisciplinary Scientific Geo...            32\n7   Proceedings of the ACM Symposium on Applied Co...            32\n8     International Journal of Human Computer Studies            29\n9   IS and T International Symposium on Electronic...            25\n10  Proceedings of the Annual Hawaii International...            22\n11                                     Neurocomputing            19\n12                          Computers and Geosciences            17\n13  Proceedings of the International Joint Confere...            15\n14     Cartography and Geographic Information Science            15\n15               Environmental Modelling and Software            15\n16                         Automation in Construction            14\n17                  Journal of Biomedical Informatics            13\n18                   Expert Systems with Applications            12\n19  IOP Conference Series: Earth and Environmental...             8\n20                  Multimedia Tools and Applications             8\n21                                       BMC Genomics             4",
      "text/html": "<div>\n<style scoped>\n    .dataframe tbody tr th:only-of-type {\n        vertical-align: middle;\n    }\n\n    .dataframe tbody tr th {\n        vertical-align: top;\n    }\n\n    .dataframe thead th {\n        text-align: right;\n    }\n</style>\n<table border=\"1\" class=\"dataframe\">\n  <thead>\n    <tr style=\"text-align: right;\">\n      <th></th>\n      <th>index</th>\n      <th>Source title</th>\n    </tr>\n  </thead>\n  <tbody>\n    <tr>\n      <th>0</th>\n      <td>Proc. of the IADIS Int. Conf. Computer Graphic...</td>\n      <td>55</td>\n    </tr>\n    <tr>\n      <th>1</th>\n      <td>MCCSIS 2018 - Multi Conference on Computer Sci...</td>\n      <td>53</td>\n    </tr>\n    <tr>\n      <th>2</th>\n      <td>Proceedings of the International Conferences o...</td>\n      <td>49</td>\n    </tr>\n    <tr>\n      <th>3</th>\n      <td>Proceedings of the IEEE Visualization Conference</td>\n      <td>48</td>\n    </tr>\n    <tr>\n      <th>4</th>\n      <td>Proceedings of the IEEE Symposium on Informati...</td>\n      <td>41</td>\n    </tr>\n    <tr>\n      <th>5</th>\n      <td>Lecture Notes in Artificial Intelligence (Subs...</td>\n      <td>35</td>\n    </tr>\n    <tr>\n      <th>6</th>\n      <td>International Multidisciplinary Scientific Geo...</td>\n      <td>32</td>\n    </tr>\n    <tr>\n      <th>7</th>\n      <td>Proceedings of the ACM Symposium on Applied Co...</td>\n      <td>32</td>\n    </tr>\n    <tr>\n      <th>8</th>\n      <td>International Journal of Human Computer Studies</td>\n      <td>29</td>\n    </tr>\n    <tr>\n      <th>9</th>\n      <td>IS and T International Symposium on Electronic...</td>\n      <td>25</td>\n    </tr>\n    <tr>\n      <th>10</th>\n      <td>Proceedings of the Annual Hawaii International...</td>\n      <td>22</td>\n    </tr>\n    <tr>\n      <th>11</th>\n      <td>Neurocomputing</td>\n      <td>19</td>\n    </tr>\n    <tr>\n      <th>12</th>\n      <td>Computers and Geosciences</td>\n      <td>17</td>\n    </tr>\n    <tr>\n      <th>13</th>\n      <td>Proceedings of the International Joint Confere...</td>\n      <td>15</td>\n    </tr>\n    <tr>\n      <th>14</th>\n      <td>Cartography and Geographic Information Science</td>\n      <td>15</td>\n    </tr>\n    <tr>\n      <th>15</th>\n      <td>Environmental Modelling and Software</td>\n      <td>15</td>\n    </tr>\n    <tr>\n      <th>16</th>\n      <td>Automation in Construction</td>\n      <td>14</td>\n    </tr>\n    <tr>\n      <th>17</th>\n      <td>Journal of Biomedical Informatics</td>\n      <td>13</td>\n    </tr>\n    <tr>\n      <th>18</th>\n      <td>Expert Systems with Applications</td>\n      <td>12</td>\n    </tr>\n    <tr>\n      <th>19</th>\n      <td>IOP Conference Series: Earth and Environmental...</td>\n      <td>8</td>\n    </tr>\n    <tr>\n      <th>20</th>\n      <td>Multimedia Tools and Applications</td>\n      <td>8</td>\n    </tr>\n    <tr>\n      <th>21</th>\n      <td>BMC Genomics</td>\n      <td>4</td>\n    </tr>\n  </tbody>\n</table>\n</div>"
     },
     "execution_count": 7,
     "metadata": {},
     "output_type": "execute_result"
    }
   ],
   "source": [
    "df[\"Source title\"].value_counts().reset_index()\n"
   ]
  },
  {
   "cell_type": "code",
   "execution_count": 8,
   "metadata": {
    "id": "Z_U5IzJQxcaH",
    "pycharm": {
     "name": "#%%\n"
    }
   },
   "outputs": [],
   "source": [
    "nodes = df['EID'].values\n",
    "df = df.fillna(0)"
   ]
  },
  {
   "cell_type": "code",
   "execution_count": 9,
   "metadata": {
    "colab": {
     "base_uri": "https://localhost:8080/"
    },
    "id": "DgQVBdEI18ep",
    "outputId": "f9815404-6e9a-4e12-e2db-d9658f916a86",
    "pycharm": {
     "name": "#%%\n"
    }
   },
   "outputs": [
    {
     "data": {
      "text/plain": "2020"
     },
     "execution_count": 9,
     "metadata": {},
     "output_type": "execute_result"
    }
   ],
   "source": [
    "df['Year'].max()"
   ]
  },
  {
   "cell_type": "code",
   "execution_count": 10,
   "metadata": {
    "id": "icYRPfKSxds2",
    "pycharm": {
     "name": "#%%\n"
    }
   },
   "outputs": [],
   "source": [
    "G = nx.Graph()"
   ]
  },
  {
   "cell_type": "code",
   "execution_count": 11,
   "metadata": {
    "id": "2kIj1wG831Xb",
    "pycharm": {
     "name": "#%%\n"
    }
   },
   "outputs": [],
   "source": [
    "nodes = []\n",
    "for row in df.iterrows():\n",
    "  nodes.append((row[1]['EID'],{\n",
    "      \"Title\": row[1]['Title'],\n",
    "      \"Year\" : row[1]['Year'],\n",
    "      \"Citations\" : row[1]['Cited by'],\n",
    "      \"Publisher\" : row[1]['Publisher'],\n",
    "  }))"
   ]
  },
  {
   "cell_type": "code",
   "execution_count": 12,
   "metadata": {
    "colab": {
     "base_uri": "https://localhost:8080/"
    },
    "id": "PcEXS238bPZI",
    "outputId": "26870673-1df5-48d0-c571-d3a24cafbc7a",
    "pycharm": {
     "name": "#%%\n"
    }
   },
   "outputs": [
    {
     "data": {
      "text/plain": "('2-s2.0-85086464158',\n {'Title': 'Virtual reality applications for the built environment: Research trends and opportunities',\n  'Year': 2020,\n  'Citations': 0.0,\n  'Publisher': 'Elsevier B.V.'})"
     },
     "execution_count": 12,
     "metadata": {},
     "output_type": "execute_result"
    }
   ],
   "source": [
    "nodes[0]"
   ]
  },
  {
   "cell_type": "code",
   "execution_count": 13,
   "metadata": {
    "id": "jHGhaKMvyBkB",
    "pycharm": {
     "name": "#%%\n"
    }
   },
   "outputs": [],
   "source": [
    "G.add_nodes_from(nodes)"
   ]
  },
  {
   "cell_type": "code",
   "execution_count": 14,
   "metadata": {
    "id": "OJ5Ne3OyyQBV",
    "pycharm": {
     "name": "#%%\n"
    }
   },
   "outputs": [],
   "source": [
    "edges = []\n",
    "for row in df.iterrows():\n",
    "  current_paper = row[1]['EID']\n",
    "  if \";\" in row[1]['Author(s) ID']: \n",
    "    authors = row[1]['Author(s) ID'][:-1].split(\";\")\n",
    "    for author in authors:\n",
    "      papers = df[df['Author(s) ID'].str.contains(author)]['EID'].values\n",
    "      if len(papers)>0:\n",
    "        for paper in papers:\n",
    "          if paper != current_paper:\n",
    "            edges.append((current_paper,paper))\n",
    "  else:\n",
    "    continue"
   ]
  },
  {
   "cell_type": "code",
   "execution_count": 15,
   "metadata": {
    "id": "UT_0fVh9yW2L",
    "pycharm": {
     "name": "#%%\n"
    }
   },
   "outputs": [],
   "source": [
    "G.add_edges_from(edges)"
   ]
  },
  {
   "cell_type": "code",
   "execution_count": 16,
   "metadata": {
    "id": "XrnWG1VW0JTC",
    "pycharm": {
     "name": "#%%\n"
    }
   },
   "outputs": [],
   "source": [
    "#pos = nx.drawing.circular_layout(G)\n",
    "pos = nx.spring_layout(G)"
   ]
  },
  {
   "cell_type": "code",
   "execution_count": 17,
   "metadata": {
    "colab": {
     "base_uri": "https://localhost:8080/",
     "height": 319
    },
    "id": "-D3WrO9Z0hkY",
    "outputId": "4cd0d396-4b66-420a-8507-43923bd8ed6f",
    "pycharm": {
     "name": "#%%\n"
    }
   },
   "outputs": [
    {
     "data": {
      "text/plain": "<Figure size 432x288 with 1 Axes>",
      "image/png": "[encoded data removed]"
     },
     "metadata": {},
     "output_type": "display_data"
    }
   ],
   "source": [
    "nx.draw(G,pos=pos, node_size=40,alpha=.2)"
   ]
  },
  {
   "cell_type": "code",
   "execution_count": 18,
   "metadata": {
    "id": "_N7tu69Y491c",
    "pycharm": {
     "name": "#%%\n"
    }
   },
   "outputs": [],
   "source": [
    "with open(\"assign_part2_dhyey.json\",'w') as f:\n",
    "  json.dump(json_graph.node_link_data(G),f)"
   ]
  },
  {
   "cell_type": "code",
   "execution_count": 19,
   "metadata": {
    "id": "RQKKn8GJbg56",
    "pycharm": {
     "name": "#%%\n"
    }
   },
   "outputs": [],
   "source": [
    "nx.write_gml(G,\"network.gml\")"
   ]
  }
 ],
 "metadata": {
  "colab": {
   "provenance": []
  },
  "kernelspec": {
   "display_name": "Python 3 (ipykernel)",
   "language": "python",
   "name": "python3"
  },
  "language_info": {
   "codemirror_mode": {
    "name": "ipython",
    "version": 3
   },
   "file_extension": ".py",
   "mimetype": "text/x-python",
   "name": "python",
   "nbconvert_exporter": "python",
   "pygments_lexer": "ipython3",
   "version": "3.10.8"
  },
  "vscode": {
   "interpreter": {
    "hash": "aee8b7b246df8f9039afb4144a1f6fd8d2ca17a180786b69acc140d282b71a49"
   }
  }
 },
 "nbformat": 4,
 "nbformat_minor": 1
}